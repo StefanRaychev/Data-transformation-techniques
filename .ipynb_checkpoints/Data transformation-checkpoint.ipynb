{
 "cells": [
  {
   "cell_type": "code",
   "execution_count": 1,
   "id": "a0e79a05-d1fb-4abb-b166-fa0f79fd2d1b",
   "metadata": {},
   "outputs": [],
   "source": [
    "import wbgapi as wb\n",
    "import warnings\n",
    "import time\n",
    "\n",
    "import pandas as pd\n",
    "from pandas import DataFrame\n",
    "import numpy as np\n",
    "from numpy import quantile, where\n",
    "import scipy.stats as stats\n",
    "import statsmodels as sm\n",
    "import statsmodels.api\n",
    "import statsmodels\n",
    "\n",
    "import pytz\n",
    "import matplotlib.pyplot as plt\n",
    "import matplotlib.font_manager\n",
    "import seaborn as sns\n",
    "import plotly.express as px\n",
    "import plotly.graph_objs as go\n",
    "\n",
    "from sklearn.covariance import EllipticEnvelope\n",
    "from sklearn.svm import OneClassSVM\n",
    "from sklearn.cluster import OPTICS\n",
    "from sklearn.linear_model import LinearRegression, RANSACRegressor\n",
    "from sklearn.model_selection import train_test_split\n",
    "from sklearn import svm\n",
    "from sklearn.ensemble import IsolationForest\n",
    "from sklearn.neighbors import LocalOutlierFactor\n",
    "from sklearn.linear_model import SGDOneClassSVM\n",
    "from sklearn.kernel_approximation import Nystroem\n",
    "from sklearn.pipeline import make_pipeline\n",
    "from sklearn.cluster import DBSCAN\n",
    "from sklearn.neighbors import NearestNeighbors\n",
    "\n",
    "warnings.filterwarnings('ignore')"
   ]
  },
  {
   "cell_type": "markdown",
   "id": "b25946e3-ac4c-45e5-a82e-f2cd0e1fdc10",
   "metadata": {
    "tags": []
   },
   "source": [
    "<h1 style=\"color:black; background-color:white; padding:10px; padding-bottom:10px;text-align: center;\">Methodology-for-Outliers-Detection</h1>"
   ]
  },
  {
   "cell_type": "markdown",
   "id": "4fac8a6d-580a-4dd8-bc2b-ff78546db1c0",
   "metadata": {},
   "source": [
    "<h2 style=\"color:black; background-color:white; padding:5px; padding-bottom:10px; margin-bottom:-10px\">I. Introduction</h2>\n",
    "<p style=\"color:black; background-color:white; padding:5px; padding-bottom:20px;margin-bottom:-10px\">\n",
    "Economics as a science of scarcity, places the necessity of studying the economic system in the direction of increasing its efficiency. More and more models close to \"reality\" are being created that make it possible to understand and predict economic dynamics in order to create effective and responsive economic and social public policies. An important factor in this direction is that all steps from the correct measurement of economic phenomena, to the correct collection of the data, cleaning and preparation of the data are optimal. Only then the models that step on this data will be correct and give the right answers.\n",
    "<p style=\"color:black; background-color:white; padding:5px;padding-bottom:20px;margin-bottom:-10px\">The present study presents the different methods and techniques for analyzing one of the basic steps before running the models - the detection of outliers and anomalies. The theory of \"end values\", their types, the factors behind their occurrence and the meaning behind each \"end value\" will be briefly presented.</p>\n",
    "<p style=\"color:black; background-color:white; padding:5px;padding-bottom:20px;margin-bottom:-10px\">The purpose of the study is not to show which of these \"end values\" are bad, wrong or unnecessary, but rather to show different approaches to distinguishing them, which will provide the necessary information for the next step in dealing with them.</p>\n",
    "<p style=\"color:black; background-color:white; padding:5px;\">As an example of analysis, the database of the World Bank will be used, and specifically indicators for the level of employment and unemployment.</p>"
   ]
  },
  {
   "cell_type": "markdown",
   "id": "879b2be6-b5f0-4fe9-aa5f-876d9ee67c24",
   "metadata": {},
   "source": [
    "<h2 style=\"color:black; background-color:white; padding:5px; padding-bottom:10px; margin-bottom:-10px\">II. Theoretical foundations of missing data.</h2>\n",
    "<p style=\"color:black; background-color:white; padding:5px; margin-bottom:-15px\">Let's briefly introduce what outliers and anomalies are in data, how they are related, and how they differ.</p>\n",
    "<ul style=\"color:black; background-color:white; padding:5px; margin-bottom:-10px\">An outlier is an observation that is unlike the other observations. It is rare, or distinct, or does not fit in some way. Outliers are data points which lie at an abnormal distance from other points in a random sample from a population. In statistics, an outlier is a data point that differs significantly from other observations.</ul>\n",
    "<li style=\"color:black; background-color:white; padding:5px\"><i>We will generally define outliers as samples that are exceptionally far from the mainstream of the data.</i> — Page 33, Applied Predictive Modeling, 2013.</li>\n",
    "<li style=\"color:black; background-color:white; padding:5px\"><i>An outlier is an observation that lies outside the overall pattern of a distribution</i> — (Moore and McCabe 1999)</li>\n",
    "<p style=\"color:black; background-color:white; padding:5px; padding-bottom:20px; margin-bottom:-15px\">Anomalies are referred to values, which do not conform to an expected pattern of the other values in the data set. Anomalies are referred to as a different distribution that occurs within a distribution. In other words, if outliers we can understand them as extreme values, usually single, rare, apparently different caused by multiple factors from errors in collecting part of the data to sharp external influences that distort the values. In contrast, anomalies are rather different values that follow their own behavior, in most cases a few, which is not so much extreme as different in logic from the rest of the values. Reasons that can cause anomalies are the influence of factors at a certain moment that change the behavior of the values. Anomalies are patterns of different data within given data, whereas Outliers would be merely extreme data points within data. If not aggregated appropriately, anomalies may be neglected as outliers. Despite this general definition of outliers and anomalies, in many cases these terms are used interchangeably and the difference between them depending on the case may be difficult to detect. But still revealing the behavior in the final values - random or logical is important when working with them.</p>\n",
    "<p style=\"color:black; background-color:white; padding:5px;padding-bottom:20px;margin-bottom:-10px\">1. Outliers are divided according to several characteristics. Depending on the number, we distinguish:</p>\n",
    "<li style=\"color:black; background-color:white; padding:5px\">A univariate outlier is a data point that consists of an extreme value on one variable. </li>\n",
    "<li style=\"color:black; background-color:white; padding:5px\">A multivariate outlier is a combination of unusual scores on at least two variables. </li>\n",
    "<p style=\"color:black; background-color:white; padding:5px;padding-bottom:20px;margin-bottom:-10px\">2. Depending on their number and behavior, we distinguish the following three types of outliers:</p>\n",
    "<li style=\"color:black; background-color:white; padding:5px\">Point outlier: If an individual data point can be considered as anomalous with respect to the rest of the data, then the instance is termed as a point outlier.</li>\n",
    "<li style=\"color:black; background-color:white; padding:5px\">Contextual outliers: If a data instance is anomalous in a specific context (but not otherwise), then it is termed as a contextual outlier. Attributes of data objects should be divided into two groups :\n",
    "(Contextual attributes: defines the context, e.g., time & location)\n",
    "(Behavioural attributes: characteristics of the object, used in outlier evaluation, e.g., temperatur) </li>\n",
    "<li style=\"color:black; background-color:white; padding:5px\">Collective outliers: If a collection of data points is anomalous concerning the entire data set, it is termed as a collective outlier. </li>\n",
    "<p style=\"color:black; background-color:white; padding:5px;padding-bottom:20px;margin-bottom:-10px\">3. According to whether we analyze current and future data, we can distinguish the following approaches:</p>\n",
    "<li style=\"color:black; background-color:white; padding:5px\">outlier detection: The training data contains outliers which are defined as observations that are far from the others. Outlier detection estimators thus try to fit the regions where the training data is the most concentrated, ignoring the deviant observations.</li>\n",
    "<li style=\"color:black; background-color:white; padding:5px\">novelty detection: The training data is not polluted by outliers and we are interested in detecting whether a new observation is an outlier. In this context an outlier is also called a novelty.</li>\n",
    "<p style=\"color:black; background-color:white; padding:5px;padding-bottom:20px;margin-bottom:-10px\">Outlier detection and novelty detection are both used for anomaly detection, where one is interested in detecting abnormal or unusual observations. Outlier detection is then also known as unsupervised anomaly detection and novelty detection as semi-supervised anomaly detection.</p>\n",
    "<p style=\"color:black; background-color:white; padding:5px;padding-bottom:20px;margin-bottom:-10px\">4. Depending on the reasons for the occurrence of outliers, we can designate the most common ones as:</p>\n",
    "<li style=\"color:black; background-color:white; padding:5px\">Errors in measuring or collecting the data </li>\n",
    "<li style=\"color:black; background-color:white; padding:5px\">Errors in data extraction, processing or manipulation</li>\n",
    "<li style=\"color:black; background-color:white; padding:5px\">Human error when entering, loading the data.</li>\n",
    "<li style=\"color:black; background-color:white; padding:5px\">Natural occurrences of outliers that aren’t errors, which can be called dataset novelties.</li>\n",
    "<p style=\"color:black; background-color:white; padding:5px;padding-bottom:20px;margin-bottom:-10px\">5. The importance of detecting outliers and anomalies is enormous. Not only the improvement of the data from the point of view of applying subsequent models but also as a red light in many cases. As examples of the importance of detecting outliers and anomalies we can mention:</p>\n",
    "<li style=\"color:black; background-color:white; padding:5px\">Medicine: An anomalous values in blood or other indicators may indicate the presence of a malignant tumor, or other hidden illnes;</li>\n",
    "<li style=\"color:black; background-color:white; padding:5px\">Cyberattacks: Outlieres may indicate security breaches;</li>\n",
    "<li style=\"color:black; background-color:white; padding:5px\">Fraud detection: An outlier credit card transaction or an abnormal buying pattern can indicate a credit card theft or an identity theft;</li>"
   ]
  },
  {
   "cell_type": "markdown",
   "id": "258b80da-bf9c-4d1d-a3be-755f21315495",
   "metadata": {},
   "source": [
    "<h2 style=\"color:black; background-color:white; padding:5px; padding-bottom:10px; margin-bottom:-10px\">III. Methodology and empirical analysis </h2>\n",
    "<p style=\"color:black; background-color:white; padding:5px;padding-bottom:20px;margin-bottom:-10px\">The methodology of the present study is based on the study of economic data related to the labor market. The aim of the research is to reveal the different techniques for distinguishing anomalies and outliers in economic data. The data parameters are as follows:</p>\n",
    "<li style=\"color:black; background-color:white; padding:5px\">Database used: World Bank ( https://data.worldbank.org/ ) </li>\n",
    "<li style=\"color:black; background-color:white; padding:5px\">Indicators used: employment rate (https://data.worldbank.org/indicator/SL.EMP.TOTL.SP.NE.ZS) and unemployment rate (https://data.worldbank.org/indicator/SL. UEM.TOTL.NE.ZS).</li>\n",
    "<li style=\"color:black; background-color:white; padding:5px\">Year of analysis: 2015</li>\n",
    "<li style=\"color:black; background-color:white; padding:5px\">Scope of analysis: countries worldwide (WLD)</li>\n",
    "\n",
    "<p style=\"color:black; background-color:white; padding:5px;padding-bottom:20px;margin-bottom:-10px\">The methodology includes the following two main steps:</p>\n",
    "<li style=\"color:black; background-color:white; padding:5px\">Preprocessing: preparing the data for analysis including loading the data, familiarizing the data and removing missing data. </li>\n",
    "<li style=\"color:black; background-color:white; padding:5px\">Anomaly/outlier analysis: using different tools to reveal outliers based on graphical method, statistical toolkit, distance and depth techniques, deep learning methods, clustering. linear etc.</li>"
   ]
  },
  {
   "cell_type": "markdown",
   "id": "77f0d684-3758-45fb-9571-cd116fe6b426",
   "metadata": {},
   "source": [
    "<h3 style=\"color:black; background-color:white; padding:5px; margin-bottom:-15px\">Step one. Preprocessing</h3>\n",
    "<ul style=\"color:black; background-color:white; padding:5px; margin-bottom:-10px\"> In this first step, the database will be prepared using the following sub-steps:</ul>\n",
    "<li style=\"color:black; background-color:white; padding:5px\">Data from the World Bank database will be loaded;</li>\n",
    "<li style=\"color:black; background-color:white; padding:5px\">The key features of the data will be revealed;</li>\n",
    "<li style=\"color:black; background-color:white; padding:5px\">Missing data will be removed</li>\n",
    "<li style=\"color:black; background-color:white; padding:5px\">The data will be visualized</li>"
   ]
  },
  {
   "cell_type": "markdown",
   "id": "99e12b3b-17f7-49cf-872e-01531385e2ac",
   "metadata": {},
   "source": [
    "<h4 style=\"color:black; background-color:white; padding:5px; padding-bottom:10px; margin-bottom:-10px\">Load the data</h4>\n",
    "<p style=\"color:black; background-color:white; padding:5px;\">\n",
    "A function is created to load the data from the World Bank database according to selected parameters: employment and unemployment indicators with a worldwide scope.</p>"
   ]
  },
  {
   "cell_type": "code",
   "execution_count": 2,
   "id": "75595861-a540-4285-a7e6-a5d5f46f2b83",
   "metadata": {},
   "outputs": [],
   "source": [
    "def load_and_name_db_WB (db, *args):\n",
    "    global df_name\n",
    "    df_name = db\n",
    "    globals()[df_name] = wb.data.DataFrame(indicators, wb.region.members(region), range(start_period, end_period))\n",
    "    globals()[df_name].columns = (new_column_names)\n",
    "    globals()[df_name] = globals()[df_name].round(2) \n",
    "    return globals()[df_name]"
   ]
  },
  {
   "cell_type": "code",
   "execution_count": 3,
   "id": "4feb6d80-290c-42e4-9dff-9708b57a58ba",
   "metadata": {},
   "outputs": [
    {
     "data": {
      "text/html": [
       "<div>\n",
       "<style scoped>\n",
       "    .dataframe tbody tr th:only-of-type {\n",
       "        vertical-align: middle;\n",
       "    }\n",
       "\n",
       "    .dataframe tbody tr th {\n",
       "        vertical-align: top;\n",
       "    }\n",
       "\n",
       "    .dataframe thead th {\n",
       "        text-align: right;\n",
       "    }\n",
       "</style>\n",
       "<table border=\"1\" class=\"dataframe\">\n",
       "  <thead>\n",
       "    <tr style=\"text-align: right;\">\n",
       "      <th></th>\n",
       "      <th>employment</th>\n",
       "      <th>unemployment</th>\n",
       "    </tr>\n",
       "    <tr>\n",
       "      <th>economy</th>\n",
       "      <th></th>\n",
       "      <th></th>\n",
       "    </tr>\n",
       "  </thead>\n",
       "  <tbody>\n",
       "    <tr>\n",
       "      <th>ABW</th>\n",
       "      <td>NaN</td>\n",
       "      <td>NaN</td>\n",
       "    </tr>\n",
       "    <tr>\n",
       "      <th>AFG</th>\n",
       "      <td>NaN</td>\n",
       "      <td>NaN</td>\n",
       "    </tr>\n",
       "    <tr>\n",
       "      <th>AGO</th>\n",
       "      <td>NaN</td>\n",
       "      <td>NaN</td>\n",
       "    </tr>\n",
       "    <tr>\n",
       "      <th>ALB</th>\n",
       "      <td>45.96</td>\n",
       "      <td>17.19</td>\n",
       "    </tr>\n",
       "    <tr>\n",
       "      <th>AND</th>\n",
       "      <td>NaN</td>\n",
       "      <td>NaN</td>\n",
       "    </tr>\n",
       "    <tr>\n",
       "      <th>...</th>\n",
       "      <td>...</td>\n",
       "      <td>...</td>\n",
       "    </tr>\n",
       "    <tr>\n",
       "      <th>XKX</th>\n",
       "      <td>22.49</td>\n",
       "      <td>32.84</td>\n",
       "    </tr>\n",
       "    <tr>\n",
       "      <th>YEM</th>\n",
       "      <td>NaN</td>\n",
       "      <td>NaN</td>\n",
       "    </tr>\n",
       "    <tr>\n",
       "      <th>ZAF</th>\n",
       "      <td>44.50</td>\n",
       "      <td>22.87</td>\n",
       "    </tr>\n",
       "    <tr>\n",
       "      <th>ZMB</th>\n",
       "      <td>NaN</td>\n",
       "      <td>NaN</td>\n",
       "    </tr>\n",
       "    <tr>\n",
       "      <th>ZWE</th>\n",
       "      <td>NaN</td>\n",
       "      <td>NaN</td>\n",
       "    </tr>\n",
       "  </tbody>\n",
       "</table>\n",
       "<p>217 rows × 2 columns</p>\n",
       "</div>"
      ],
      "text/plain": [
       "         employment  unemployment\n",
       "economy                          \n",
       "ABW             NaN           NaN\n",
       "AFG             NaN           NaN\n",
       "AGO             NaN           NaN\n",
       "ALB           45.96         17.19\n",
       "AND             NaN           NaN\n",
       "...             ...           ...\n",
       "XKX           22.49         32.84\n",
       "YEM             NaN           NaN\n",
       "ZAF           44.50         22.87\n",
       "ZMB             NaN           NaN\n",
       "ZWE             NaN           NaN\n",
       "\n",
       "[217 rows x 2 columns]"
      ]
     },
     "execution_count": 3,
     "metadata": {},
     "output_type": "execute_result"
    }
   ],
   "source": [
    "name_db = \"empl_unempl_world\"\n",
    "indicators = ['SL.UEM.TOTL.NE.ZS', \"SL.EMP.TOTL.SP.NE.ZS\"]\n",
    "new_column_names = ['employment', \"unemployment\"]\n",
    "region = \"WLD\"\n",
    "start_period = 2015\n",
    "end_period = 2016\n",
    "\n",
    "load_and_name_db_WB(name_db, indicators, region, start_period, end_period)"
   ]
  },
  {
   "cell_type": "markdown",
   "id": "51c6c4fe-66f4-4318-b2d9-99bb2ecdefef",
   "metadata": {},
   "source": [
    "<h4 style=\"color:black; background-color:white; padding:5px; padding-bottom:10px; margin-bottom:-10px\">Extraction of basic information about the data</h4>\n",
    "<p style=\"color:black; background-color:white; padding:5px;\">\n",
    "In addition to the previous substep, it is important to outline the database parameters such as size, number of cases, data type, etc. In this way, we will understand what the \"idea\" of the database is and what can and should be done with it in terms of technical content.</p>"
   ]
  },
  {
   "cell_type": "code",
   "execution_count": 4,
   "id": "a816c374-80da-4e2f-9f29-9d5fa337a92c",
   "metadata": {},
   "outputs": [],
   "source": [
    "def db_info (df):\n",
    "    observations = None\n",
    "    features = None\n",
    "    observations, features = df.shape\n",
    "    print(\"1. Оbservations and features: \\n {} Оbservations and {} features\".format(observations, features))\n",
    "    print(\"------------------------------------------------------\")\n",
    "    print (f\"2. Number of cases in the table: {df.size}\")\n",
    "    print(\"------------------------------------------------------\")\n",
    "    print(f\"3. The sum of element types by type is as follows: \\n {df.dtypes.value_counts(ascending=True)}\")\n",
    "    print(\"------------------------------------------------------\")\n",
    "\n",
    "    list_objects = []\n",
    "    list_int = []\n",
    "    list_float64 = []\n",
    "\n",
    "    for col in df.columns:\n",
    "        if df[col].dtypes == \"object\":\n",
    "            list_objects += [col]\n",
    "        elif df[col].dtypes == \"float64\":\n",
    "            list_float64 += [col]\n",
    "        elif df[col].dtypes == \"int64\" or df[col].dtypes == \"int32\":\n",
    "            list_int += [col]\n",
    "    print(\"4. Group the features by data type:\")\n",
    "    print(f\" object = {list_objects} \\n\")\n",
    "    print(f\" int = {list_int} \\n\")\n",
    "    print(f\" float64 = {list_float64}\")"
   ]
  },
  {
   "cell_type": "code",
   "execution_count": 5,
   "id": "5e701114-0e9c-4c70-b8be-19f1782fe239",
   "metadata": {},
   "outputs": [
    {
     "name": "stdout",
     "output_type": "stream",
     "text": [
      "1. Оbservations and features: \n",
      " 217 Оbservations and 2 features\n",
      "------------------------------------------------------\n",
      "2. Number of cases in the table: 434\n",
      "------------------------------------------------------\n",
      "3. The sum of element types by type is as follows: \n",
      " float64    2\n",
      "dtype: int64\n",
      "------------------------------------------------------\n",
      "4. Group the features by data type:\n",
      " object = [] \n",
      "\n",
      " int = [] \n",
      "\n",
      " float64 = ['employment', 'unemployment']\n"
     ]
    }
   ],
   "source": [
    "db_info(empl_unempl_world)"
   ]
  },
  {
   "cell_type": "code",
   "execution_count": null,
   "id": "b9c71700-c6a3-4d81-b6f3-58ca81130ae1",
   "metadata": {},
   "outputs": [],
   "source": []
  }
 ],
 "metadata": {
  "kernelspec": {
   "display_name": "Python 3 (ipykernel)",
   "language": "python",
   "name": "python3"
  },
  "language_info": {
   "codemirror_mode": {
    "name": "ipython",
    "version": 3
   },
   "file_extension": ".py",
   "mimetype": "text/x-python",
   "name": "python",
   "nbconvert_exporter": "python",
   "pygments_lexer": "ipython3",
   "version": "3.8.12"
  }
 },
 "nbformat": 4,
 "nbformat_minor": 5
}
