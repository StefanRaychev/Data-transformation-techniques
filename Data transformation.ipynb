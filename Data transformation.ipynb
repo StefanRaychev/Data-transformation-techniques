{
 "cells": [
  {
   "cell_type": "code",
   "execution_count": 1,
   "id": "a0e79a05-d1fb-4abb-b166-fa0f79fd2d1b",
   "metadata": {},
   "outputs": [],
   "source": [
    "import wbgapi as wb\n",
    "import warnings\n",
    "import time\n",
    "\n",
    "import pandas as pd\n",
    "from pandas import DataFrame\n",
    "import numpy as np\n",
    "from numpy import quantile, where\n",
    "import scipy.stats as stats\n",
    "import statsmodels as sm\n",
    "import statsmodels.api\n",
    "import statsmodels\n",
    "\n",
    "import pytz\n",
    "import matplotlib.pyplot as plt\n",
    "import matplotlib.font_manager\n",
    "import seaborn as sns\n",
    "import plotly.express as px\n",
    "import plotly.graph_objs as go\n",
    "\n",
    "from sklearn.covariance import EllipticEnvelope\n",
    "from sklearn.svm import OneClassSVM\n",
    "from sklearn.cluster import OPTICS\n",
    "from sklearn.linear_model import LinearRegression, RANSACRegressor\n",
    "from sklearn.model_selection import train_test_split\n",
    "from sklearn import svm\n",
    "from sklearn.ensemble import IsolationForest\n",
    "from sklearn.neighbors import LocalOutlierFactor\n",
    "from sklearn.linear_model import SGDOneClassSVM\n",
    "from sklearn.kernel_approximation import Nystroem\n",
    "from sklearn.pipeline import make_pipeline\n",
    "from sklearn.cluster import DBSCAN\n",
    "from sklearn.neighbors import NearestNeighbors\n",
    "\n",
    "warnings.filterwarnings('ignore')"
   ]
  },
  {
   "cell_type": "markdown",
   "id": "b25946e3-ac4c-45e5-a82e-f2cd0e1fdc10",
   "metadata": {
    "tags": []
   },
   "source": [
    "<h1 style=\"color:black; background-color:white; padding:10px; padding-bottom:10px;text-align: center;\">Methodology-for-Outliers-Detection</h1>"
   ]
  },
  {
   "cell_type": "markdown",
   "id": "4fac8a6d-580a-4dd8-bc2b-ff78546db1c0",
   "metadata": {},
   "source": [
    "<h2 style=\"color:black; background-color:white; padding:5px; padding-bottom:10px; margin-bottom:-10px\">I. Introduction</h2>\n",
    "<p style=\"color:black; background-color:white; padding:5px; padding-bottom:20px;margin-bottom:-10px\">\n",
    "Economics as a science of scarcity, places the necessity of studying the economic system in the direction of increasing its efficiency. More and more models close to \"reality\" are being created that make it possible to understand and predict economic dynamics in order to create effective and responsive economic and social public policies. An important factor in this direction is that all steps from the correct measurement of economic phenomena, to the correct collection of the data, cleaning and preparation of the data are optimal. Only then the models that step on this data will be correct and give the right answers.\n",
    "<p style=\"color:black; background-color:white; padding:5px;padding-bottom:20px;margin-bottom:-10px\">The present study presents the different methods and techniques for analyzing one of the basic steps before running the models - the detection of outliers and anomalies. The theory of \"end values\", their types, the factors behind their occurrence and the meaning behind each \"end value\" will be briefly presented.</p>\n",
    "<p style=\"color:black; background-color:white; padding:5px;padding-bottom:20px;margin-bottom:-10px\">The purpose of the study is not to show which of these \"end values\" are bad, wrong or unnecessary, but rather to show different approaches to distinguishing them, which will provide the necessary information for the next step in dealing with them.</p>\n",
    "<p style=\"color:black; background-color:white; padding:5px;\">As an example of analysis, the database of the World Bank will be used, and specifically indicators for the level of employment and unemployment.</p>"
   ]
  },
  {
   "cell_type": "markdown",
   "id": "879b2be6-b5f0-4fe9-aa5f-876d9ee67c24",
   "metadata": {},
   "source": [
    "<h2 style=\"color:black; background-color:white; padding:5px; padding-bottom:10px; margin-bottom:-10px\">II. Theoretical foundations of missing data.</h2>\n",
    "<p style=\"color:black; background-color:white; padding:5px; margin-bottom:-15px\">Let's briefly introduce what outliers and anomalies are in data, how they are related, and how they differ.</p>\n",
    "<ul style=\"color:black; background-color:white; padding:5px; margin-bottom:-10px\">An outlier is an observation that is unlike the other observations. It is rare, or distinct, or does not fit in some way. Outliers are data points which lie at an abnormal distance from other points in a random sample from a population. In statistics, an outlier is a data point that differs significantly from other observations.</ul>\n",
    "<li style=\"color:black; background-color:white; padding:5px\"><i>We will generally define outliers as samples that are exceptionally far from the mainstream of the data.</i> — Page 33, Applied Predictive Modeling, 2013.</li>\n",
    "<li style=\"color:black; background-color:white; padding:5px\"><i>An outlier is an observation that lies outside the overall pattern of a distribution</i> — (Moore and McCabe 1999)</li>\n",
    "<p style=\"color:black; background-color:white; padding:5px; padding-bottom:20px; margin-bottom:-15px\">Anomalies are referred to values, which do not conform to an expected pattern of the other values in the data set. Anomalies are referred to as a different distribution that occurs within a distribution. In other words, if outliers we can understand them as extreme values, usually single, rare, apparently different caused by multiple factors from errors in collecting part of the data to sharp external influences that distort the values. In contrast, anomalies are rather different values that follow their own behavior, in most cases a few, which is not so much extreme as different in logic from the rest of the values. Reasons that can cause anomalies are the influence of factors at a certain moment that change the behavior of the values. Anomalies are patterns of different data within given data, whereas Outliers would be merely extreme data points within data. If not aggregated appropriately, anomalies may be neglected as outliers. Despite this general definition of outliers and anomalies, in many cases these terms are used interchangeably and the difference between them depending on the case may be difficult to detect. But still revealing the behavior in the final values - random or logical is important when working with them.</p>\n",
    "<p style=\"color:black; background-color:white; padding:5px;padding-bottom:20px;margin-bottom:-10px\">1. Outliers are divided according to several characteristics. Depending on the number, we distinguish:</p>\n",
    "<li style=\"color:black; background-color:white; padding:5px\">A univariate outlier is a data point that consists of an extreme value on one variable. </li>\n",
    "<li style=\"color:black; background-color:white; padding:5px\">A multivariate outlier is a combination of unusual scores on at least two variables. </li>\n",
    "<p style=\"color:black; background-color:white; padding:5px;padding-bottom:20px;margin-bottom:-10px\">2. Depending on their number and behavior, we distinguish the following three types of outliers:</p>\n",
    "<li style=\"color:black; background-color:white; padding:5px\">Point outlier: If an individual data point can be considered as anomalous with respect to the rest of the data, then the instance is termed as a point outlier.</li>\n",
    "<li style=\"color:black; background-color:white; padding:5px\">Contextual outliers: If a data instance is anomalous in a specific context (but not otherwise), then it is termed as a contextual outlier. Attributes of data objects should be divided into two groups :\n",
    "(Contextual attributes: defines the context, e.g., time & location)\n",
    "(Behavioural attributes: characteristics of the object, used in outlier evaluation, e.g., temperatur) </li>\n",
    "<li style=\"color:black; background-color:white; padding:5px\">Collective outliers: If a collection of data points is anomalous concerning the entire data set, it is termed as a collective outlier. </li>\n",
    "<p style=\"color:black; background-color:white; padding:5px;padding-bottom:20px;margin-bottom:-10px\">3. According to whether we analyze current and future data, we can distinguish the following approaches:</p>\n",
    "<li style=\"color:black; background-color:white; padding:5px\">outlier detection: The training data contains outliers which are defined as observations that are far from the others. Outlier detection estimators thus try to fit the regions where the training data is the most concentrated, ignoring the deviant observations.</li>\n",
    "<li style=\"color:black; background-color:white; padding:5px\">novelty detection: The training data is not polluted by outliers and we are interested in detecting whether a new observation is an outlier. In this context an outlier is also called a novelty.</li>\n",
    "<p style=\"color:black; background-color:white; padding:5px;padding-bottom:20px;margin-bottom:-10px\">Outlier detection and novelty detection are both used for anomaly detection, where one is interested in detecting abnormal or unusual observations. Outlier detection is then also known as unsupervised anomaly detection and novelty detection as semi-supervised anomaly detection.</p>\n",
    "<p style=\"color:black; background-color:white; padding:5px;padding-bottom:20px;margin-bottom:-10px\">4. Depending on the reasons for the occurrence of outliers, we can designate the most common ones as:</p>\n",
    "<li style=\"color:black; background-color:white; padding:5px\">Errors in measuring or collecting the data </li>\n",
    "<li style=\"color:black; background-color:white; padding:5px\">Errors in data extraction, processing or manipulation</li>\n",
    "<li style=\"color:black; background-color:white; padding:5px\">Human error when entering, loading the data.</li>\n",
    "<li style=\"color:black; background-color:white; padding:5px\">Natural occurrences of outliers that aren’t errors, which can be called dataset novelties.</li>\n",
    "<p style=\"color:black; background-color:white; padding:5px;padding-bottom:20px;margin-bottom:-10px\">5. The importance of detecting outliers and anomalies is enormous. Not only the improvement of the data from the point of view of applying subsequent models but also as a red light in many cases. As examples of the importance of detecting outliers and anomalies we can mention:</p>\n",
    "<li style=\"color:black; background-color:white; padding:5px\">Medicine: An anomalous values in blood or other indicators may indicate the presence of a malignant tumor, or other hidden illnes;</li>\n",
    "<li style=\"color:black; background-color:white; padding:5px\">Cyberattacks: Outlieres may indicate security breaches;</li>\n",
    "<li style=\"color:black; background-color:white; padding:5px\">Fraud detection: An outlier credit card transaction or an abnormal buying pattern can indicate a credit card theft or an identity theft;</li>"
   ]
  },
  {
   "cell_type": "markdown",
   "id": "258b80da-bf9c-4d1d-a3be-755f21315495",
   "metadata": {},
   "source": [
    "<h2 style=\"color:black; background-color:white; padding:5px; padding-bottom:10px; margin-bottom:-10px\">III. Methodology and empirical analysis </h2>\n",
    "<p style=\"color:black; background-color:white; padding:5px;padding-bottom:20px;margin-bottom:-10px\">The methodology of the present study is based on the study of economic data related to the labor market. The aim of the research is to reveal the different techniques for distinguishing anomalies and outliers in economic data. The data parameters are as follows:</p>\n",
    "<li style=\"color:black; background-color:white; padding:5px\">Database used: World Bank ( https://data.worldbank.org/ ) </li>\n",
    "<li style=\"color:black; background-color:white; padding:5px\">Indicators used: employment rate (https://data.worldbank.org/indicator/SL.EMP.TOTL.SP.NE.ZS) and unemployment rate (https://data.worldbank.org/indicator/SL. UEM.TOTL.NE.ZS).</li>\n",
    "<li style=\"color:black; background-color:white; padding:5px\">Year of analysis: 2015</li>\n",
    "<li style=\"color:black; background-color:white; padding:5px\">Scope of analysis: countries worldwide (WLD)</li>\n",
    "\n",
    "<p style=\"color:black; background-color:white; padding:5px;padding-bottom:20px;margin-bottom:-10px\">The methodology includes the following two main steps:</p>\n",
    "<li style=\"color:black; background-color:white; padding:5px\">Preprocessing: preparing the data for analysis including loading the data, familiarizing the data and removing missing data. </li>\n",
    "<li style=\"color:black; background-color:white; padding:5px\">Anomaly/outlier analysis: using different tools to reveal outliers based on graphical method, statistical toolkit, distance and depth techniques, deep learning methods, clustering. linear etc.</li>"
   ]
  },
  {
   "cell_type": "markdown",
   "id": "77f0d684-3758-45fb-9571-cd116fe6b426",
   "metadata": {},
   "source": [
    "<h3 style=\"color:black; background-color:white; padding:5px; margin-bottom:-15px\">Step one. Preprocessing</h3>\n",
    "<ul style=\"color:black; background-color:white; padding:5px; margin-bottom:-10px\"> In this first step, the database will be prepared using the following sub-steps:</ul>\n",
    "<li style=\"color:black; background-color:white; padding:5px\">Data from the World Bank database will be loaded;</li>\n",
    "<li style=\"color:black; background-color:white; padding:5px\">The key features of the data will be revealed;</li>\n",
    "<li style=\"color:black; background-color:white; padding:5px\">Missing data will be removed</li>\n",
    "<li style=\"color:black; background-color:white; padding:5px\">The data will be visualized</li>"
   ]
  },
  {
   "cell_type": "markdown",
   "id": "99e12b3b-17f7-49cf-872e-01531385e2ac",
   "metadata": {},
   "source": [
    "<h4 style=\"color:black; background-color:white; padding:5px; padding-bottom:10px; margin-bottom:-10px\">Load the data</h4>\n",
    "<p style=\"color:black; background-color:white; padding:5px;\">\n",
    "A function is created to load the data from the World Bank database according to selected parameters: employment and unemployment indicators with a worldwide scope.</p>"
   ]
  },
  {
   "cell_type": "code",
   "execution_count": 2,
   "id": "75595861-a540-4285-a7e6-a5d5f46f2b83",
   "metadata": {},
   "outputs": [],
   "source": [
    "def load_and_name_db_WB (db, *args):\n",
    "    global df_name\n",
    "    df_name = db\n",
    "    globals()[df_name] = wb.data.DataFrame(indicators, wb.region.members(region), range(start_period, end_period))\n",
    "    globals()[df_name].columns = (new_column_names)\n",
    "    globals()[df_name] = globals()[df_name].round(2) \n",
    "    return globals()[df_name]"
   ]
  },
  {
   "cell_type": "code",
   "execution_count": 52,
   "id": "4feb6d80-290c-42e4-9dff-9708b57a58ba",
   "metadata": {},
   "outputs": [
    {
     "data": {
      "text/html": [
       "<div>\n",
       "<style scoped>\n",
       "    .dataframe tbody tr th:only-of-type {\n",
       "        vertical-align: middle;\n",
       "    }\n",
       "\n",
       "    .dataframe tbody tr th {\n",
       "        vertical-align: top;\n",
       "    }\n",
       "\n",
       "    .dataframe thead th {\n",
       "        text-align: right;\n",
       "    }\n",
       "</style>\n",
       "<table border=\"1\" class=\"dataframe\">\n",
       "  <thead>\n",
       "    <tr style=\"text-align: right;\">\n",
       "      <th></th>\n",
       "      <th>GDP per capita</th>\n",
       "    </tr>\n",
       "    <tr>\n",
       "      <th>economy</th>\n",
       "      <th></th>\n",
       "    </tr>\n",
       "  </thead>\n",
       "  <tbody>\n",
       "    <tr>\n",
       "      <th>ABW</th>\n",
       "      <td>29342.10</td>\n",
       "    </tr>\n",
       "    <tr>\n",
       "      <th>AFG</th>\n",
       "      <td>368.75</td>\n",
       "    </tr>\n",
       "    <tr>\n",
       "      <th>AGO</th>\n",
       "      <td>1953.53</td>\n",
       "    </tr>\n",
       "    <tr>\n",
       "      <th>ALB</th>\n",
       "      <td>6492.87</td>\n",
       "    </tr>\n",
       "    <tr>\n",
       "      <th>AND</th>\n",
       "      <td>42137.33</td>\n",
       "    </tr>\n",
       "    <tr>\n",
       "      <th>...</th>\n",
       "      <td>...</td>\n",
       "    </tr>\n",
       "    <tr>\n",
       "      <th>XKX</th>\n",
       "      <td>5269.78</td>\n",
       "    </tr>\n",
       "    <tr>\n",
       "      <th>YEM</th>\n",
       "      <td>NaN</td>\n",
       "    </tr>\n",
       "    <tr>\n",
       "      <th>ZAF</th>\n",
       "      <td>7055.04</td>\n",
       "    </tr>\n",
       "    <tr>\n",
       "      <th>ZMB</th>\n",
       "      <td>1137.34</td>\n",
       "    </tr>\n",
       "    <tr>\n",
       "      <th>ZWE</th>\n",
       "      <td>1773.92</td>\n",
       "    </tr>\n",
       "  </tbody>\n",
       "</table>\n",
       "<p>217 rows × 1 columns</p>\n",
       "</div>"
      ],
      "text/plain": [
       "         GDP per capita\n",
       "economy                \n",
       "ABW            29342.10\n",
       "AFG              368.75\n",
       "AGO             1953.53\n",
       "ALB             6492.87\n",
       "AND            42137.33\n",
       "...                 ...\n",
       "XKX             5269.78\n",
       "YEM                 NaN\n",
       "ZAF             7055.04\n",
       "ZMB             1137.34\n",
       "ZWE             1773.92\n",
       "\n",
       "[217 rows x 1 columns]"
      ]
     },
     "execution_count": 52,
     "metadata": {},
     "output_type": "execute_result"
    }
   ],
   "source": [
    "name_db = \"gdp_percap_world\"\n",
    "indicators = ['NY.GDP.PCAP.CD']\n",
    "new_column_names = ['GDP per capita']\n",
    "region = \"WLD\"\n",
    "start_period = 2021\n",
    "end_period = 2022\n",
    "\n",
    "load_and_name_db_WB(name_db, indicators, region, start_period, end_period)"
   ]
  },
  {
   "cell_type": "markdown",
   "id": "51c6c4fe-66f4-4318-b2d9-99bb2ecdefef",
   "metadata": {},
   "source": [
    "<h4 style=\"color:black; background-color:white; padding:5px; padding-bottom:10px; margin-bottom:-10px\">Extraction of basic information about the data</h4>\n",
    "<p style=\"color:black; background-color:white; padding:5px;\">\n",
    "In addition to the previous substep, it is important to outline the database parameters such as size, number of cases, data type, etc. In this way, we will understand what the \"idea\" of the database is and what can and should be done with it in terms of technical content.</p>"
   ]
  },
  {
   "cell_type": "code",
   "execution_count": 4,
   "id": "a816c374-80da-4e2f-9f29-9d5fa337a92c",
   "metadata": {},
   "outputs": [],
   "source": [
    "def db_info (df):\n",
    "    observations = None\n",
    "    features = None\n",
    "    observations, features = df.shape\n",
    "    print(\"1. Оbservations and features: \\n {} Оbservations and {} features\".format(observations, features))\n",
    "    print(\"------------------------------------------------------\")\n",
    "    print (f\"2. Number of cases in the table: {df.size}\")\n",
    "    print(\"------------------------------------------------------\")\n",
    "    print(f\"3. The sum of element types by type is as follows: \\n {df.dtypes.value_counts(ascending=True)}\")\n",
    "    print(\"------------------------------------------------------\")\n",
    "\n",
    "    list_objects = []\n",
    "    list_int = []\n",
    "    list_float64 = []\n",
    "\n",
    "    for col in df.columns:\n",
    "        if df[col].dtypes == \"object\":\n",
    "            list_objects += [col]\n",
    "        elif df[col].dtypes == \"float64\":\n",
    "            list_float64 += [col]\n",
    "        elif df[col].dtypes == \"int64\" or df[col].dtypes == \"int32\":\n",
    "            list_int += [col]\n",
    "    print(\"4. Group the features by data type:\")\n",
    "    print(f\" object = {list_objects} \\n\")\n",
    "    print(f\" int = {list_int} \\n\")\n",
    "    print(f\" float64 = {list_float64}\")"
   ]
  },
  {
   "cell_type": "code",
   "execution_count": 53,
   "id": "fbb26d41-0d3d-4ec6-982a-6ce2b4657f16",
   "metadata": {},
   "outputs": [
    {
     "data": {
      "text/html": [
       "<div>\n",
       "<style scoped>\n",
       "    .dataframe tbody tr th:only-of-type {\n",
       "        vertical-align: middle;\n",
       "    }\n",
       "\n",
       "    .dataframe tbody tr th {\n",
       "        vertical-align: top;\n",
       "    }\n",
       "\n",
       "    .dataframe thead th {\n",
       "        text-align: right;\n",
       "    }\n",
       "</style>\n",
       "<table border=\"1\" class=\"dataframe\">\n",
       "  <thead>\n",
       "    <tr style=\"text-align: right;\">\n",
       "      <th></th>\n",
       "      <th>GDP per capita</th>\n",
       "    </tr>\n",
       "    <tr>\n",
       "      <th>economy</th>\n",
       "      <th></th>\n",
       "    </tr>\n",
       "  </thead>\n",
       "  <tbody>\n",
       "    <tr>\n",
       "      <th>ABW</th>\n",
       "      <td>29342.10</td>\n",
       "    </tr>\n",
       "    <tr>\n",
       "      <th>AFG</th>\n",
       "      <td>368.75</td>\n",
       "    </tr>\n",
       "    <tr>\n",
       "      <th>AGO</th>\n",
       "      <td>1953.53</td>\n",
       "    </tr>\n",
       "    <tr>\n",
       "      <th>ALB</th>\n",
       "      <td>6492.87</td>\n",
       "    </tr>\n",
       "    <tr>\n",
       "      <th>AND</th>\n",
       "      <td>42137.33</td>\n",
       "    </tr>\n",
       "    <tr>\n",
       "      <th>...</th>\n",
       "      <td>...</td>\n",
       "    </tr>\n",
       "    <tr>\n",
       "      <th>WSM</th>\n",
       "      <td>3857.32</td>\n",
       "    </tr>\n",
       "    <tr>\n",
       "      <th>XKX</th>\n",
       "      <td>5269.78</td>\n",
       "    </tr>\n",
       "    <tr>\n",
       "      <th>ZAF</th>\n",
       "      <td>7055.04</td>\n",
       "    </tr>\n",
       "    <tr>\n",
       "      <th>ZMB</th>\n",
       "      <td>1137.34</td>\n",
       "    </tr>\n",
       "    <tr>\n",
       "      <th>ZWE</th>\n",
       "      <td>1773.92</td>\n",
       "    </tr>\n",
       "  </tbody>\n",
       "</table>\n",
       "<p>197 rows × 1 columns</p>\n",
       "</div>"
      ],
      "text/plain": [
       "         GDP per capita\n",
       "economy                \n",
       "ABW            29342.10\n",
       "AFG              368.75\n",
       "AGO             1953.53\n",
       "ALB             6492.87\n",
       "AND            42137.33\n",
       "...                 ...\n",
       "WSM             3857.32\n",
       "XKX             5269.78\n",
       "ZAF             7055.04\n",
       "ZMB             1137.34\n",
       "ZWE             1773.92\n",
       "\n",
       "[197 rows x 1 columns]"
      ]
     },
     "execution_count": 53,
     "metadata": {},
     "output_type": "execute_result"
    }
   ],
   "source": [
    "www = gdp_percap_world.dropna()\n",
    "www"
   ]
  },
  {
   "cell_type": "code",
   "execution_count": 23,
   "id": "5e701114-0e9c-4c70-b8be-19f1782fe239",
   "metadata": {},
   "outputs": [
    {
     "name": "stdout",
     "output_type": "stream",
     "text": [
      "1. Оbservations and features: \n",
      " 210 Оbservations and 1 features\n",
      "------------------------------------------------------\n",
      "2. Number of cases in the table: 210\n",
      "------------------------------------------------------\n",
      "3. The sum of element types by type is as follows: \n",
      " float64    1\n",
      "dtype: int64\n",
      "------------------------------------------------------\n",
      "4. Group the features by data type:\n",
      " object = [] \n",
      "\n",
      " int = [] \n",
      "\n",
      " float64 = ['GDP per capita']\n"
     ]
    }
   ],
   "source": [
    "db_info(www)"
   ]
  },
  {
   "cell_type": "code",
   "execution_count": 56,
   "id": "fe0060ae-8a00-432b-a131-3de67f64c3a9",
   "metadata": {},
   "outputs": [
    {
     "data": {
      "text/plain": [
       "ShapiroResult(statistic=0.6245829463005066, pvalue=1.4217918026272423e-20)"
      ]
     },
     "execution_count": 56,
     "metadata": {},
     "output_type": "execute_result"
    }
   ],
   "source": [
    "from scipy.stats import shapiro\n",
    "shapiro(www)"
   ]
  },
  {
   "cell_type": "code",
   "execution_count": 57,
   "id": "424180bb-e606-4f55-af2d-a2514dd951c8",
   "metadata": {},
   "outputs": [
    {
     "data": {
      "text/plain": [
       "KstestResult(statistic=1.0, pvalue=0.0)"
      ]
     },
     "execution_count": 57,
     "metadata": {},
     "output_type": "execute_result"
    }
   ],
   "source": [
    "from scipy.stats import kstest\n",
    "kstest(www, 'norm')"
   ]
  },
  {
   "cell_type": "code",
   "execution_count": 58,
   "id": "374f39c4-c3c2-4865-92d2-65c723cf4fbe",
   "metadata": {},
   "outputs": [
    {
     "data": {
      "image/png": "[encoded data removed]",
      "text/plain": [
       "<Figure size 432x288 with 1 Axes>"
      ]
     },
     "metadata": {
      "needs_background": "light"
     },
     "output_type": "display_data"
    }
   ],
   "source": [
    "plt.hist(www, edgecolor='black', bins=20)\n",
    "plt.show()"
   ]
  },
  {
   "cell_type": "code",
   "execution_count": 54,
   "id": "cf212ad8-8002-4665-86f9-18874547af50",
   "metadata": {},
   "outputs": [
    {
     "data": {
      "text/html": [
       "<div>\n",
       "<style scoped>\n",
       "    .dataframe tbody tr th:only-of-type {\n",
       "        vertical-align: middle;\n",
       "    }\n",
       "\n",
       "    .dataframe tbody tr th {\n",
       "        vertical-align: top;\n",
       "    }\n",
       "\n",
       "    .dataframe thead th {\n",
       "        text-align: right;\n",
       "    }\n",
       "</style>\n",
       "<table border=\"1\" class=\"dataframe\">\n",
       "  <thead>\n",
       "    <tr style=\"text-align: right;\">\n",
       "      <th></th>\n",
       "      <th>GDP per capita</th>\n",
       "    </tr>\n",
       "  </thead>\n",
       "  <tbody>\n",
       "    <tr>\n",
       "      <th>nobs</th>\n",
       "      <td>197.00</td>\n",
       "    </tr>\n",
       "    <tr>\n",
       "      <th>missing</th>\n",
       "      <td>0.00</td>\n",
       "    </tr>\n",
       "    <tr>\n",
       "      <th>mean</th>\n",
       "      <td>18152.08</td>\n",
       "    </tr>\n",
       "    <tr>\n",
       "      <th>std_err</th>\n",
       "      <td>1995.72</td>\n",
       "    </tr>\n",
       "    <tr>\n",
       "      <th>upper_ci</th>\n",
       "      <td>22063.62</td>\n",
       "    </tr>\n",
       "    <tr>\n",
       "      <th>lower_ci</th>\n",
       "      <td>14240.54</td>\n",
       "    </tr>\n",
       "    <tr>\n",
       "      <th>std</th>\n",
       "      <td>28011.26</td>\n",
       "    </tr>\n",
       "    <tr>\n",
       "      <th>iqr</th>\n",
       "      <td>18690.24</td>\n",
       "    </tr>\n",
       "    <tr>\n",
       "      <th>iqr_normal</th>\n",
       "      <td>13855.10</td>\n",
       "    </tr>\n",
       "    <tr>\n",
       "      <th>mad</th>\n",
       "      <td>18297.85</td>\n",
       "    </tr>\n",
       "    <tr>\n",
       "      <th>mad_normal</th>\n",
       "      <td>22932.95</td>\n",
       "    </tr>\n",
       "    <tr>\n",
       "      <th>coef_var</th>\n",
       "      <td>1.54</td>\n",
       "    </tr>\n",
       "    <tr>\n",
       "      <th>range</th>\n",
       "      <td>234093.98</td>\n",
       "    </tr>\n",
       "    <tr>\n",
       "      <th>max</th>\n",
       "      <td>234315.46</td>\n",
       "    </tr>\n",
       "    <tr>\n",
       "      <th>min</th>\n",
       "      <td>221.48</td>\n",
       "    </tr>\n",
       "    <tr>\n",
       "      <th>skew</th>\n",
       "      <td>3.54</td>\n",
       "    </tr>\n",
       "    <tr>\n",
       "      <th>kurtosis</th>\n",
       "      <td>21.97</td>\n",
       "    </tr>\n",
       "    <tr>\n",
       "      <th>jarque_bera</th>\n",
       "      <td>3366.28</td>\n",
       "    </tr>\n",
       "    <tr>\n",
       "      <th>jarque_bera_pval</th>\n",
       "      <td>0.00</td>\n",
       "    </tr>\n",
       "    <tr>\n",
       "      <th>mode</th>\n",
       "      <td>221.48</td>\n",
       "    </tr>\n",
       "    <tr>\n",
       "      <th>mode_freq</th>\n",
       "      <td>0.01</td>\n",
       "    </tr>\n",
       "    <tr>\n",
       "      <th>median</th>\n",
       "      <td>6621.57</td>\n",
       "    </tr>\n",
       "    <tr>\n",
       "      <th>1%</th>\n",
       "      <td>443.85</td>\n",
       "    </tr>\n",
       "    <tr>\n",
       "      <th>5%</th>\n",
       "      <td>667.50</td>\n",
       "    </tr>\n",
       "    <tr>\n",
       "      <th>10%</th>\n",
       "      <td>913.87</td>\n",
       "    </tr>\n",
       "    <tr>\n",
       "      <th>25%</th>\n",
       "      <td>2457.92</td>\n",
       "    </tr>\n",
       "    <tr>\n",
       "      <th>50%</th>\n",
       "      <td>6621.57</td>\n",
       "    </tr>\n",
       "    <tr>\n",
       "      <th>75%</th>\n",
       "      <td>21148.16</td>\n",
       "    </tr>\n",
       "    <tr>\n",
       "      <th>90%</th>\n",
       "      <td>51543.38</td>\n",
       "    </tr>\n",
       "    <tr>\n",
       "      <th>95%</th>\n",
       "      <td>68784.17</td>\n",
       "    </tr>\n",
       "    <tr>\n",
       "      <th>99%</th>\n",
       "      <td>114870.32</td>\n",
       "    </tr>\n",
       "  </tbody>\n",
       "</table>\n",
       "</div>"
      ],
      "text/plain": [
       "                  GDP per capita\n",
       "nobs                      197.00\n",
       "missing                     0.00\n",
       "mean                    18152.08\n",
       "std_err                  1995.72\n",
       "upper_ci                22063.62\n",
       "lower_ci                14240.54\n",
       "std                     28011.26\n",
       "iqr                     18690.24\n",
       "iqr_normal              13855.10\n",
       "mad                     18297.85\n",
       "mad_normal              22932.95\n",
       "coef_var                    1.54\n",
       "range                  234093.98\n",
       "max                    234315.46\n",
       "min                       221.48\n",
       "skew                        3.54\n",
       "kurtosis                   21.97\n",
       "jarque_bera              3366.28\n",
       "jarque_bera_pval            0.00\n",
       "mode                      221.48\n",
       "mode_freq                   0.01\n",
       "median                   6621.57\n",
       "1%                        443.85\n",
       "5%                        667.50\n",
       "10%                       913.87\n",
       "25%                      2457.92\n",
       "50%                      6621.57\n",
       "75%                     21148.16\n",
       "90%                     51543.38\n",
       "95%                     68784.17\n",
       "99%                    114870.32"
      ]
     },
     "execution_count": 54,
     "metadata": {},
     "output_type": "execute_result"
    }
   ],
   "source": [
    "statsmodels.stats.descriptivestats.describe(www).round(2)"
   ]
  },
  {
   "cell_type": "code",
   "execution_count": 61,
   "id": "bc655499-bed9-4865-a579-4b865a925400",
   "metadata": {},
   "outputs": [
    {
     "name": "stdout",
     "output_type": "stream",
     "text": [
      "Max value: 234315.46\n",
      "Parameters : ('MCO', 'GDP per capita')\n"
     ]
    }
   ],
   "source": [
    "print('Max value:', www.stack().max())\n",
    "print('Parameters :', www.stack().idxmax())"
   ]
  },
  {
   "cell_type": "code",
   "execution_count": 59,
   "id": "63422c5b-7313-4f61-935d-ea23f6a25cb9",
   "metadata": {},
   "outputs": [
    {
     "name": "stdout",
     "output_type": "stream",
     "text": [
      "Max value: 221.48\n",
      "Parameters : ('BDI', 'GDP per capita')\n"
     ]
    }
   ],
   "source": [
    "print('Max value:', www.stack().min())\n",
    "print('Parameters :', www.stack().idxmin())"
   ]
  },
  {
   "cell_type": "code",
   "execution_count": 60,
   "id": "031edcb1-84a2-4880-833f-2a0b6f0bf534",
   "metadata": {},
   "outputs": [
    {
     "name": "stdout",
     "output_type": "stream",
     "text": [
      "Parameters : MCO 234315.46\n",
      "Parameters : BDI 221.48\n"
     ]
    }
   ],
   "source": [
    "print('Parameters :', www.stack().idxmax()[0], www.stack().max())\n",
    "print('Parameters :', www.stack().idxmin()[0], www.stack().min())"
   ]
  },
  {
   "cell_type": "code",
   "execution_count": null,
   "id": "fd408991-66ad-44b7-88cb-5a779d34f6ef",
   "metadata": {},
   "outputs": [],
   "source": []
  }
 ],
 "metadata": {
  "kernelspec": {
   "display_name": "Python 3 (ipykernel)",
   "language": "python",
   "name": "python3"
  },
  "language_info": {
   "codemirror_mode": {
    "name": "ipython",
    "version": 3
   },
   "file_extension": ".py",
   "mimetype": "text/x-python",
   "name": "python",
   "nbconvert_exporter": "python",
   "pygments_lexer": "ipython3",
   "version": "3.8.12"
  }
 },
 "nbformat": 4,
 "nbformat_minor": 5
}
